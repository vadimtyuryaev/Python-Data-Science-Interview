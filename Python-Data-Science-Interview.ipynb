{
 "cells": [
  {
   "cell_type": "markdown",
   "id": "762f8b56-06af-4838-b498-1fb187395cce",
   "metadata": {},
   "source": [
    "# Top 20 Python Data-Science Interview Questions 2025 + 5 Essential Concepts Every Data Scientist Should Know"
   ]
  },
  {
   "cell_type": "markdown",
   "id": "0db06cf4-acb6-42ee-9bd6-adf07eece0b0",
   "metadata": {},
   "source": [
    "# Part 1: Questions"
   ]
  },
  {
   "cell_type": "markdown",
   "id": "636de383-e18b-4851-94fd-ae6b688fadb5",
   "metadata": {},
   "source": [
    "## Lists and tuples"
   ]
  },
  {
   "cell_type": "code",
   "execution_count": 1,
   "id": "12abbf4d-d38f-4f89-ad45-1825223deae7",
   "metadata": {},
   "outputs": [
    {
     "name": "stdout",
     "output_type": "stream",
     "text": [
      "[99, 2, 3, 4]\n"
     ]
    }
   ],
   "source": [
    "# List \n",
    "nums = [1, 2, 3]\n",
    "nums[0] = 99          # works\n",
    "nums.append(4)        # works\n",
    "print(nums)           # [99, 2, 3, 4]"
   ]
  },
  {
   "cell_type": "code",
   "execution_count": 2,
   "id": "6ee21263-02ff-4e01-9252-fce1993e5ec1",
   "metadata": {},
   "outputs": [
    {
     "name": "stdout",
     "output_type": "stream",
     "text": [
      "'tuple' object does not support item assignment\n"
     ]
    }
   ],
   "source": [
    "# Tuple (immutable)\n",
    "coords = (10, 20, 30)\n",
    "try:\n",
    "    coords[0] = 0     # TypeError\n",
    "except TypeError as e:\n",
    "    print(e)         # 'tuple' object does not support item assignment"
   ]
  },
  {
   "cell_type": "markdown",
   "id": "1d05277e-915e-40ab-a646-b5c1fef1b05a",
   "metadata": {},
   "source": [
    "## Python lists vs NumPy arrays"
   ]
  },
  {
   "cell_type": "code",
   "execution_count": 3,
   "id": "86065b22-5fe3-4aeb-ba2e-e4875ef4f104",
   "metadata": {},
   "outputs": [],
   "source": [
    "import numpy as np, timeit, random\n",
    "\n",
    "N = 1_000_000\n",
    "py_list = [random.random() for _ in range(N)]\n",
    "np_arr  = np.array(py_list)\n",
    "\n",
    "def list_sum():     # Python loop\n",
    "    return sum(x**2 for x in py_list)\n",
    "\n",
    "def numpy_sum():    # Vectorised\n",
    "    return np_arr.dot(np_arr)\n"
   ]
  },
  {
   "cell_type": "code",
   "execution_count": 4,
   "id": "bd8f04fe-46fb-4e95-80c2-d3535d974722",
   "metadata": {},
   "outputs": [
    {
     "name": "stdout",
     "output_type": "stream",
     "text": [
      "List  : 0.8038781179348007\n",
      "NumPy : 0.0023022169480100274\n",
      "Speedup : 430\n"
     ]
    }
   ],
   "source": [
    "print(\"List  :\", timeit.timeit(list_sum,  number=10))\n",
    "print(\"NumPy :\", timeit.timeit(numpy_sum, number=10))\n",
    "print(\"Speedup :\", round(timeit.timeit(list_sum,  number=10)/timeit.timeit(numpy_sum, number=10)))"
   ]
  },
  {
   "cell_type": "markdown",
   "id": "249b1080-8600-4330-8847-4e17257ef22b",
   "metadata": {},
   "source": [
    "## List comprehension and dictionary comprehension"
   ]
  },
  {
   "cell_type": "code",
   "execution_count": 5,
   "id": "a827a28b-f8ee-4eb7-82a1-8b161a16beb1",
   "metadata": {},
   "outputs": [
    {
     "name": "stdout",
     "output_type": "stream",
     "text": [
      "['boat', 'cat']\n"
     ]
    }
   ],
   "source": [
    "# List comprehension example: get words containing 'b'\n",
    "words = [\"boy\", \"apple\", \"boat\", \"cat\", \"girl\", \"dog\"]\n",
    "result = [w for w in words if \"t\" in w]\n",
    "print(result)  # Output: ['boat', 'cat']"
   ]
  },
  {
   "cell_type": "code",
   "execution_count": 6,
   "id": "690e58c7-0a76-4e98-b294-7e5303438902",
   "metadata": {},
   "outputs": [
    {
     "name": "stdout",
     "output_type": "stream",
     "text": [
      "{'c': 27, 'd': 64}\n"
     ]
    }
   ],
   "source": [
    "# Dictionary comprehension example: map numbers to their cubes if > 2\n",
    "nums = {'a': 1, 'b': 2, 'c': 3, 'd': 4}\n",
    "cube_map = {k: v**3 for k, v in nums.items() if v > 2}\n",
    "print(cube_map)  # Output: {'c': 27, 'd': 64}"
   ]
  },
  {
   "cell_type": "markdown",
   "id": "273b0446-005b-48be-9dad-e8821cdc6777",
   "metadata": {},
   "source": [
    "## Anonymous functions"
   ]
  },
  {
   "cell_type": "code",
   "execution_count": 7,
   "id": "a12b268a-d5ca-4f7a-8d57-a0ace98100ab",
   "metadata": {},
   "outputs": [
    {
     "name": "stdout",
     "output_type": "stream",
     "text": [
      "8\n",
      "['AI', 'ML', 'data', 'Python', 'science', 'Statistics']\n"
     ]
    }
   ],
   "source": [
    "# Lambda function to add two numbers\n",
    "add = lambda x, y: x + y\n",
    "print(add(3, 5))  # Output: 8\n",
    "\n",
    "# Using lambda in sorted to sort words by length\n",
    "words = [\"data\", \"science\", \"AI\", \"Python\", \"ML\", \"Statistics\"]\n",
    "sorted_by_length = sorted(words, key=lambda w: len(w))\n",
    "print(sorted_by_length)  # Output: ['AI', 'ML', 'data', 'Python', 'science', 'Statistics']"
   ]
  },
  {
   "cell_type": "markdown",
   "id": "ef85c331-510f-43b5-b7a1-9f83c0036cd8",
   "metadata": {},
   "source": [
    "## Yield vs return"
   ]
  },
  {
   "cell_type": "code",
   "execution_count": 8,
   "id": "187337c6-aa0d-42dd-b2a8-9881292d5e76",
   "metadata": {},
   "outputs": [
    {
     "name": "stdout",
     "output_type": "stream",
     "text": [
      "6\n",
      "5\n",
      "4\n",
      "3\n",
      "2\n",
      "1\n"
     ]
    }
   ],
   "source": [
    "def countdown(n):\n",
    "    while n > 0:\n",
    "        yield n   # yield produces the next value and pauses\n",
    "        n -= 1\n",
    "\n",
    "# Using the generator:\n",
    "for num in countdown(6):\n",
    "    print(num)\n",
    "# Output: 6 5 4 3 2 1"
   ]
  },
  {
   "cell_type": "markdown",
   "id": "72f9bc14-1f61-418d-a0af-2ce9f65bcd7c",
   "metadata": {},
   "source": [
    "## Pandas .loc and .iloc "
   ]
  },
  {
   "cell_type": "code",
   "execution_count": 9,
   "id": "82e9cf6a-d743-4a5a-9a04-4c74a68e162c",
   "metadata": {},
   "outputs": [],
   "source": [
    "import pandas as pd, numpy as np\n",
    "df = pd.DataFrame(np.arange(20).reshape(5,4),\n",
    "                  columns=list(\"ABCD\"), index=list(\"vwxyz\"))"
   ]
  },
  {
   "cell_type": "code",
   "execution_count": 10,
   "id": "8a830d5b-261e-46cb-9a3f-41c576758602",
   "metadata": {},
   "outputs": [
    {
     "name": "stdout",
     "output_type": "stream",
     "text": [
      "    A   B   C   D\n",
      "v   0   1   2   3\n",
      "w   4   5   6   7\n",
      "x   8   9  10  11\n",
      "y  12  13  14  15\n",
      "z  16  17  18  19\n"
     ]
    }
   ],
   "source": [
    "print(df)"
   ]
  },
  {
   "cell_type": "code",
   "execution_count": 11,
   "id": "2c7215ad-ee11-4633-b86d-58829cb9d9bd",
   "metadata": {},
   "outputs": [
    {
     "data": {
      "text/html": [
       "<div>\n",
       "<style scoped>\n",
       "    .dataframe tbody tr th:only-of-type {\n",
       "        vertical-align: middle;\n",
       "    }\n",
       "\n",
       "    .dataframe tbody tr th {\n",
       "        vertical-align: top;\n",
       "    }\n",
       "\n",
       "    .dataframe thead th {\n",
       "        text-align: right;\n",
       "    }\n",
       "</style>\n",
       "<table border=\"1\" class=\"dataframe\">\n",
       "  <thead>\n",
       "    <tr style=\"text-align: right;\">\n",
       "      <th></th>\n",
       "      <th>A</th>\n",
       "      <th>B</th>\n",
       "    </tr>\n",
       "  </thead>\n",
       "  <tbody>\n",
       "    <tr>\n",
       "      <th>w</th>\n",
       "      <td>4</td>\n",
       "      <td>5</td>\n",
       "    </tr>\n",
       "    <tr>\n",
       "      <th>x</th>\n",
       "      <td>8</td>\n",
       "      <td>9</td>\n",
       "    </tr>\n",
       "    <tr>\n",
       "      <th>y</th>\n",
       "      <td>12</td>\n",
       "      <td>13</td>\n",
       "    </tr>\n",
       "  </tbody>\n",
       "</table>\n",
       "</div>"
      ],
      "text/plain": [
       "    A   B\n",
       "w   4   5\n",
       "x   8   9\n",
       "y  12  13"
      ]
     },
     "execution_count": 11,
     "metadata": {},
     "output_type": "execute_result"
    }
   ],
   "source": [
    "df.loc[\"w\":\"y\", \"A\":\"B\"]   # label-based"
   ]
  },
  {
   "cell_type": "code",
   "execution_count": 12,
   "id": "fa2cb29e-78bd-4c79-b6a2-773d27375498",
   "metadata": {},
   "outputs": [
    {
     "data": {
      "text/html": [
       "<div>\n",
       "<style scoped>\n",
       "    .dataframe tbody tr th:only-of-type {\n",
       "        vertical-align: middle;\n",
       "    }\n",
       "\n",
       "    .dataframe tbody tr th {\n",
       "        vertical-align: top;\n",
       "    }\n",
       "\n",
       "    .dataframe thead th {\n",
       "        text-align: right;\n",
       "    }\n",
       "</style>\n",
       "<table border=\"1\" class=\"dataframe\">\n",
       "  <thead>\n",
       "    <tr style=\"text-align: right;\">\n",
       "      <th></th>\n",
       "      <th>A</th>\n",
       "      <th>B</th>\n",
       "    </tr>\n",
       "  </thead>\n",
       "  <tbody>\n",
       "    <tr>\n",
       "      <th>v</th>\n",
       "      <td>0</td>\n",
       "      <td>1</td>\n",
       "    </tr>\n",
       "    <tr>\n",
       "      <th>w</th>\n",
       "      <td>4</td>\n",
       "      <td>5</td>\n",
       "    </tr>\n",
       "    <tr>\n",
       "      <th>x</th>\n",
       "      <td>8</td>\n",
       "      <td>9</td>\n",
       "    </tr>\n",
       "  </tbody>\n",
       "</table>\n",
       "</div>"
      ],
      "text/plain": [
       "   A  B\n",
       "v  0  1\n",
       "w  4  5\n",
       "x  8  9"
      ]
     },
     "execution_count": 12,
     "metadata": {},
     "output_type": "execute_result"
    }
   ],
   "source": [
    "df.iloc[0:3, 0:2]          # position-based"
   ]
  },
  {
   "cell_type": "markdown",
   "id": "a8722f4d-14ed-4f56-912e-cace3a07b7f1",
   "metadata": {},
   "source": [
    "## Missing values in Pandas"
   ]
  },
  {
   "cell_type": "code",
   "execution_count": 13,
   "id": "c4876310-11be-471a-895e-fbc8150784a9",
   "metadata": {},
   "outputs": [],
   "source": [
    "np.random.seed(86)\n",
    "truth = pd.Series(np.random.randn(10), name=\"signal\")\n",
    "data  = truth.copy()\n",
    "data.iloc[[2, 5, 7]] = np.nan           # inject NaNs"
   ]
  },
  {
   "cell_type": "code",
   "execution_count": 14,
   "id": "96a6af0d-2c35-4215-ac66-09c9ce18b5ab",
   "metadata": {},
   "outputs": [
    {
     "name": "stdout",
     "output_type": "stream",
     "text": [
      "Missing count → 3\n"
     ]
    }
   ],
   "source": [
    "print(\"Missing count →\", data.isna().sum())"
   ]
  },
  {
   "cell_type": "code",
   "execution_count": 15,
   "id": "df90aa14-fe74-4bfd-8740-7fc28c0a77bd",
   "metadata": {},
   "outputs": [],
   "source": [
    "filled = data.fillna(data.mean())       # mean imputation"
   ]
  },
  {
   "cell_type": "code",
   "execution_count": 16,
   "id": "354d86a8-b3ce-4b9f-b0fc-b4c2f8da0f67",
   "metadata": {},
   "outputs": [
    {
     "name": "stdout",
     "output_type": "stream",
     "text": [
      "0   -0.596286\n",
      "1   -0.605418\n",
      "2         NaN\n",
      "3   -0.623220\n",
      "4    0.693539\n",
      "5         NaN\n",
      "6   -1.582419\n",
      "7         NaN\n",
      "8   -0.043294\n",
      "9    1.163529\n",
      "Name: signal, dtype: float64\n"
     ]
    }
   ],
   "source": [
    "print(data)"
   ]
  },
  {
   "cell_type": "code",
   "execution_count": 17,
   "id": "9cfe5491-1168-4b29-ad5b-23261c88c915",
   "metadata": {},
   "outputs": [
    {
     "name": "stdout",
     "output_type": "stream",
     "text": [
      "0   -0.596286\n",
      "1   -0.605418\n",
      "2   -0.227653\n",
      "3   -0.623220\n",
      "4    0.693539\n",
      "5   -0.227653\n",
      "6   -1.582419\n",
      "7   -0.227653\n",
      "8   -0.043294\n",
      "9    1.163529\n",
      "Name: signal, dtype: float64\n"
     ]
    }
   ],
   "source": [
    "print(filled)"
   ]
  },
  {
   "cell_type": "markdown",
   "id": "56dcb6e5-f471-43cf-bd81-23b21e798c81",
   "metadata": {},
   "source": [
    "## Merge, join, and concatenate"
   ]
  },
  {
   "cell_type": "code",
   "execution_count": 18,
   "id": "5c3cdf69-51da-40a2-8712-2f7684d09aa9",
   "metadata": {},
   "outputs": [],
   "source": [
    "# Create dfs\n",
    "left_df  = pd.DataFrame({'id':[1,2,3,4], 'L':['A','B','C', 'D']})\n",
    "right_df = pd.DataFrame({'id':[2,3,4,5], 'R':['W','X','Y','Z']})"
   ]
  },
  {
   "cell_type": "code",
   "execution_count": 19,
   "id": "9b442f31-5b47-4a10-a244-b0bd6099472d",
   "metadata": {},
   "outputs": [
    {
     "data": {
      "text/html": [
       "<div>\n",
       "<style scoped>\n",
       "    .dataframe tbody tr th:only-of-type {\n",
       "        vertical-align: middle;\n",
       "    }\n",
       "\n",
       "    .dataframe tbody tr th {\n",
       "        vertical-align: top;\n",
       "    }\n",
       "\n",
       "    .dataframe thead th {\n",
       "        text-align: right;\n",
       "    }\n",
       "</style>\n",
       "<table border=\"1\" class=\"dataframe\">\n",
       "  <thead>\n",
       "    <tr style=\"text-align: right;\">\n",
       "      <th></th>\n",
       "      <th>id</th>\n",
       "      <th>L</th>\n",
       "    </tr>\n",
       "  </thead>\n",
       "  <tbody>\n",
       "    <tr>\n",
       "      <th>0</th>\n",
       "      <td>1</td>\n",
       "      <td>A</td>\n",
       "    </tr>\n",
       "    <tr>\n",
       "      <th>1</th>\n",
       "      <td>2</td>\n",
       "      <td>B</td>\n",
       "    </tr>\n",
       "    <tr>\n",
       "      <th>2</th>\n",
       "      <td>3</td>\n",
       "      <td>C</td>\n",
       "    </tr>\n",
       "    <tr>\n",
       "      <th>3</th>\n",
       "      <td>4</td>\n",
       "      <td>D</td>\n",
       "    </tr>\n",
       "  </tbody>\n",
       "</table>\n",
       "</div>"
      ],
      "text/plain": [
       "   id  L\n",
       "0   1  A\n",
       "1   2  B\n",
       "2   3  C\n",
       "3   4  D"
      ]
     },
     "execution_count": 19,
     "metadata": {},
     "output_type": "execute_result"
    }
   ],
   "source": [
    "left_df"
   ]
  },
  {
   "cell_type": "code",
   "execution_count": 20,
   "id": "63501f14-8fae-4b8d-a062-79bb1f031bae",
   "metadata": {},
   "outputs": [
    {
     "data": {
      "text/html": [
       "<div>\n",
       "<style scoped>\n",
       "    .dataframe tbody tr th:only-of-type {\n",
       "        vertical-align: middle;\n",
       "    }\n",
       "\n",
       "    .dataframe tbody tr th {\n",
       "        vertical-align: top;\n",
       "    }\n",
       "\n",
       "    .dataframe thead th {\n",
       "        text-align: right;\n",
       "    }\n",
       "</style>\n",
       "<table border=\"1\" class=\"dataframe\">\n",
       "  <thead>\n",
       "    <tr style=\"text-align: right;\">\n",
       "      <th></th>\n",
       "      <th>id</th>\n",
       "      <th>R</th>\n",
       "    </tr>\n",
       "  </thead>\n",
       "  <tbody>\n",
       "    <tr>\n",
       "      <th>0</th>\n",
       "      <td>2</td>\n",
       "      <td>W</td>\n",
       "    </tr>\n",
       "    <tr>\n",
       "      <th>1</th>\n",
       "      <td>3</td>\n",
       "      <td>X</td>\n",
       "    </tr>\n",
       "    <tr>\n",
       "      <th>2</th>\n",
       "      <td>4</td>\n",
       "      <td>Y</td>\n",
       "    </tr>\n",
       "    <tr>\n",
       "      <th>3</th>\n",
       "      <td>5</td>\n",
       "      <td>Z</td>\n",
       "    </tr>\n",
       "  </tbody>\n",
       "</table>\n",
       "</div>"
      ],
      "text/plain": [
       "   id  R\n",
       "0   2  W\n",
       "1   3  X\n",
       "2   4  Y\n",
       "3   5  Z"
      ]
     },
     "execution_count": 20,
     "metadata": {},
     "output_type": "execute_result"
    }
   ],
   "source": [
    "right_df"
   ]
  },
  {
   "cell_type": "code",
   "execution_count": 21,
   "id": "d1d5873a-550d-4043-978b-21ebb732f268",
   "metadata": {},
   "outputs": [
    {
     "data": {
      "text/html": [
       "<div>\n",
       "<style scoped>\n",
       "    .dataframe tbody tr th:only-of-type {\n",
       "        vertical-align: middle;\n",
       "    }\n",
       "\n",
       "    .dataframe tbody tr th {\n",
       "        vertical-align: top;\n",
       "    }\n",
       "\n",
       "    .dataframe thead th {\n",
       "        text-align: right;\n",
       "    }\n",
       "</style>\n",
       "<table border=\"1\" class=\"dataframe\">\n",
       "  <thead>\n",
       "    <tr style=\"text-align: right;\">\n",
       "      <th></th>\n",
       "      <th>id</th>\n",
       "      <th>L</th>\n",
       "      <th>R</th>\n",
       "    </tr>\n",
       "  </thead>\n",
       "  <tbody>\n",
       "    <tr>\n",
       "      <th>0</th>\n",
       "      <td>2</td>\n",
       "      <td>B</td>\n",
       "      <td>W</td>\n",
       "    </tr>\n",
       "    <tr>\n",
       "      <th>1</th>\n",
       "      <td>3</td>\n",
       "      <td>C</td>\n",
       "      <td>X</td>\n",
       "    </tr>\n",
       "    <tr>\n",
       "      <th>2</th>\n",
       "      <td>4</td>\n",
       "      <td>D</td>\n",
       "      <td>Y</td>\n",
       "    </tr>\n",
       "  </tbody>\n",
       "</table>\n",
       "</div>"
      ],
      "text/plain": [
       "   id  L  R\n",
       "0   2  B  W\n",
       "1   3  C  X\n",
       "2   4  D  Y"
      ]
     },
     "execution_count": 21,
     "metadata": {},
     "output_type": "execute_result"
    }
   ],
   "source": [
    "pd.merge(left_df, right_df, on=\"id\", how=\"inner\")   # inner"
   ]
  },
  {
   "cell_type": "code",
   "execution_count": 22,
   "id": "f0239222-524d-411d-8290-36c6f787ebac",
   "metadata": {},
   "outputs": [
    {
     "data": {
      "text/html": [
       "<div>\n",
       "<style scoped>\n",
       "    .dataframe tbody tr th:only-of-type {\n",
       "        vertical-align: middle;\n",
       "    }\n",
       "\n",
       "    .dataframe tbody tr th {\n",
       "        vertical-align: top;\n",
       "    }\n",
       "\n",
       "    .dataframe thead th {\n",
       "        text-align: right;\n",
       "    }\n",
       "</style>\n",
       "<table border=\"1\" class=\"dataframe\">\n",
       "  <thead>\n",
       "    <tr style=\"text-align: right;\">\n",
       "      <th></th>\n",
       "      <th>id</th>\n",
       "      <th>L</th>\n",
       "      <th>R</th>\n",
       "    </tr>\n",
       "  </thead>\n",
       "  <tbody>\n",
       "    <tr>\n",
       "      <th>0</th>\n",
       "      <td>1</td>\n",
       "      <td>A</td>\n",
       "      <td>NaN</td>\n",
       "    </tr>\n",
       "    <tr>\n",
       "      <th>1</th>\n",
       "      <td>2</td>\n",
       "      <td>B</td>\n",
       "      <td>W</td>\n",
       "    </tr>\n",
       "    <tr>\n",
       "      <th>2</th>\n",
       "      <td>3</td>\n",
       "      <td>C</td>\n",
       "      <td>X</td>\n",
       "    </tr>\n",
       "    <tr>\n",
       "      <th>3</th>\n",
       "      <td>4</td>\n",
       "      <td>D</td>\n",
       "      <td>Y</td>\n",
       "    </tr>\n",
       "  </tbody>\n",
       "</table>\n",
       "</div>"
      ],
      "text/plain": [
       "   id  L    R\n",
       "0   1  A  NaN\n",
       "1   2  B    W\n",
       "2   3  C    X\n",
       "3   4  D    Y"
      ]
     },
     "execution_count": 22,
     "metadata": {},
     "output_type": "execute_result"
    }
   ],
   "source": [
    "pd.merge(left_df, right_df, on=\"id\", how=\"left\")    # left"
   ]
  },
  {
   "cell_type": "code",
   "execution_count": 23,
   "id": "ec3199a9-c670-4c60-b058-a72066f69c21",
   "metadata": {
    "scrolled": true
   },
   "outputs": [
    {
     "data": {
      "text/html": [
       "<div>\n",
       "<style scoped>\n",
       "    .dataframe tbody tr th:only-of-type {\n",
       "        vertical-align: middle;\n",
       "    }\n",
       "\n",
       "    .dataframe tbody tr th {\n",
       "        vertical-align: top;\n",
       "    }\n",
       "\n",
       "    .dataframe thead th {\n",
       "        text-align: right;\n",
       "    }\n",
       "</style>\n",
       "<table border=\"1\" class=\"dataframe\">\n",
       "  <thead>\n",
       "    <tr style=\"text-align: right;\">\n",
       "      <th></th>\n",
       "      <th>id</th>\n",
       "      <th>L</th>\n",
       "      <th>R</th>\n",
       "    </tr>\n",
       "  </thead>\n",
       "  <tbody>\n",
       "    <tr>\n",
       "      <th>0</th>\n",
       "      <td>2</td>\n",
       "      <td>B</td>\n",
       "      <td>W</td>\n",
       "    </tr>\n",
       "    <tr>\n",
       "      <th>1</th>\n",
       "      <td>3</td>\n",
       "      <td>C</td>\n",
       "      <td>X</td>\n",
       "    </tr>\n",
       "    <tr>\n",
       "      <th>2</th>\n",
       "      <td>4</td>\n",
       "      <td>D</td>\n",
       "      <td>Y</td>\n",
       "    </tr>\n",
       "    <tr>\n",
       "      <th>3</th>\n",
       "      <td>5</td>\n",
       "      <td>NaN</td>\n",
       "      <td>Z</td>\n",
       "    </tr>\n",
       "  </tbody>\n",
       "</table>\n",
       "</div>"
      ],
      "text/plain": [
       "   id    L  R\n",
       "0   2    B  W\n",
       "1   3    C  X\n",
       "2   4    D  Y\n",
       "3   5  NaN  Z"
      ]
     },
     "execution_count": 23,
     "metadata": {},
     "output_type": "execute_result"
    }
   ],
   "source": [
    "pd.merge(left_df, right_df, on=\"id\", how=\"right\")   # right"
   ]
  },
  {
   "cell_type": "code",
   "execution_count": 24,
   "id": "78743a63-455e-479b-9936-c69cbbfeeaf3",
   "metadata": {},
   "outputs": [
    {
     "data": {
      "text/html": [
       "<div>\n",
       "<style scoped>\n",
       "    .dataframe tbody tr th:only-of-type {\n",
       "        vertical-align: middle;\n",
       "    }\n",
       "\n",
       "    .dataframe tbody tr th {\n",
       "        vertical-align: top;\n",
       "    }\n",
       "\n",
       "    .dataframe thead th {\n",
       "        text-align: right;\n",
       "    }\n",
       "</style>\n",
       "<table border=\"1\" class=\"dataframe\">\n",
       "  <thead>\n",
       "    <tr style=\"text-align: right;\">\n",
       "      <th></th>\n",
       "      <th>id</th>\n",
       "      <th>L</th>\n",
       "      <th>R</th>\n",
       "    </tr>\n",
       "  </thead>\n",
       "  <tbody>\n",
       "    <tr>\n",
       "      <th>0</th>\n",
       "      <td>1</td>\n",
       "      <td>A</td>\n",
       "      <td>NaN</td>\n",
       "    </tr>\n",
       "    <tr>\n",
       "      <th>1</th>\n",
       "      <td>2</td>\n",
       "      <td>B</td>\n",
       "      <td>W</td>\n",
       "    </tr>\n",
       "    <tr>\n",
       "      <th>2</th>\n",
       "      <td>3</td>\n",
       "      <td>C</td>\n",
       "      <td>X</td>\n",
       "    </tr>\n",
       "    <tr>\n",
       "      <th>3</th>\n",
       "      <td>4</td>\n",
       "      <td>D</td>\n",
       "      <td>Y</td>\n",
       "    </tr>\n",
       "    <tr>\n",
       "      <th>4</th>\n",
       "      <td>5</td>\n",
       "      <td>NaN</td>\n",
       "      <td>Z</td>\n",
       "    </tr>\n",
       "  </tbody>\n",
       "</table>\n",
       "</div>"
      ],
      "text/plain": [
       "   id    L    R\n",
       "0   1    A  NaN\n",
       "1   2    B    W\n",
       "2   3    C    X\n",
       "3   4    D    Y\n",
       "4   5  NaN    Z"
      ]
     },
     "execution_count": 24,
     "metadata": {},
     "output_type": "execute_result"
    }
   ],
   "source": [
    "pd.merge(left_df, right_df, on=\"id\", how=\"outer\")   # full outer"
   ]
  },
  {
   "cell_type": "code",
   "execution_count": 25,
   "id": "10f7675d-aea4-4451-9bc4-2a1a96cfb264",
   "metadata": {},
   "outputs": [
    {
     "data": {
      "text/html": [
       "<div>\n",
       "<style scoped>\n",
       "    .dataframe tbody tr th:only-of-type {\n",
       "        vertical-align: middle;\n",
       "    }\n",
       "\n",
       "    .dataframe tbody tr th {\n",
       "        vertical-align: top;\n",
       "    }\n",
       "\n",
       "    .dataframe thead th {\n",
       "        text-align: right;\n",
       "    }\n",
       "</style>\n",
       "<table border=\"1\" class=\"dataframe\">\n",
       "  <thead>\n",
       "    <tr style=\"text-align: right;\">\n",
       "      <th></th>\n",
       "      <th>L</th>\n",
       "      <th>R</th>\n",
       "    </tr>\n",
       "    <tr>\n",
       "      <th>id</th>\n",
       "      <th></th>\n",
       "      <th></th>\n",
       "    </tr>\n",
       "  </thead>\n",
       "  <tbody>\n",
       "    <tr>\n",
       "      <th>1</th>\n",
       "      <td>A</td>\n",
       "      <td>NaN</td>\n",
       "    </tr>\n",
       "    <tr>\n",
       "      <th>2</th>\n",
       "      <td>B</td>\n",
       "      <td>W</td>\n",
       "    </tr>\n",
       "    <tr>\n",
       "      <th>3</th>\n",
       "      <td>C</td>\n",
       "      <td>X</td>\n",
       "    </tr>\n",
       "    <tr>\n",
       "      <th>4</th>\n",
       "      <td>D</td>\n",
       "      <td>Y</td>\n",
       "    </tr>\n",
       "    <tr>\n",
       "      <th>5</th>\n",
       "      <td>NaN</td>\n",
       "      <td>Z</td>\n",
       "    </tr>\n",
       "  </tbody>\n",
       "</table>\n",
       "</div>"
      ],
      "text/plain": [
       "      L    R\n",
       "id          \n",
       "1     A  NaN\n",
       "2     B    W\n",
       "3     C    X\n",
       "4     D    Y\n",
       "5   NaN    Z"
      ]
     },
     "execution_count": 25,
     "metadata": {},
     "output_type": "execute_result"
    }
   ],
   "source": [
    "left_df.set_index('id').join(right_df.set_index('id'), how='outer')  # same as above"
   ]
  },
  {
   "cell_type": "code",
   "execution_count": 26,
   "id": "ba103024-dc69-45eb-acf0-612b18520558",
   "metadata": {},
   "outputs": [
    {
     "data": {
      "text/html": [
       "<div>\n",
       "<style scoped>\n",
       "    .dataframe tbody tr th:only-of-type {\n",
       "        vertical-align: middle;\n",
       "    }\n",
       "\n",
       "    .dataframe tbody tr th {\n",
       "        vertical-align: top;\n",
       "    }\n",
       "\n",
       "    .dataframe thead th {\n",
       "        text-align: right;\n",
       "    }\n",
       "</style>\n",
       "<table border=\"1\" class=\"dataframe\">\n",
       "  <thead>\n",
       "    <tr style=\"text-align: right;\">\n",
       "      <th></th>\n",
       "      <th>id</th>\n",
       "      <th>L</th>\n",
       "      <th>R</th>\n",
       "    </tr>\n",
       "  </thead>\n",
       "  <tbody>\n",
       "    <tr>\n",
       "      <th>0</th>\n",
       "      <td>1</td>\n",
       "      <td>A</td>\n",
       "      <td>NaN</td>\n",
       "    </tr>\n",
       "    <tr>\n",
       "      <th>1</th>\n",
       "      <td>2</td>\n",
       "      <td>B</td>\n",
       "      <td>NaN</td>\n",
       "    </tr>\n",
       "    <tr>\n",
       "      <th>2</th>\n",
       "      <td>3</td>\n",
       "      <td>C</td>\n",
       "      <td>NaN</td>\n",
       "    </tr>\n",
       "    <tr>\n",
       "      <th>3</th>\n",
       "      <td>4</td>\n",
       "      <td>D</td>\n",
       "      <td>NaN</td>\n",
       "    </tr>\n",
       "    <tr>\n",
       "      <th>4</th>\n",
       "      <td>2</td>\n",
       "      <td>NaN</td>\n",
       "      <td>W</td>\n",
       "    </tr>\n",
       "    <tr>\n",
       "      <th>5</th>\n",
       "      <td>3</td>\n",
       "      <td>NaN</td>\n",
       "      <td>X</td>\n",
       "    </tr>\n",
       "    <tr>\n",
       "      <th>6</th>\n",
       "      <td>4</td>\n",
       "      <td>NaN</td>\n",
       "      <td>Y</td>\n",
       "    </tr>\n",
       "    <tr>\n",
       "      <th>7</th>\n",
       "      <td>5</td>\n",
       "      <td>NaN</td>\n",
       "      <td>Z</td>\n",
       "    </tr>\n",
       "  </tbody>\n",
       "</table>\n",
       "</div>"
      ],
      "text/plain": [
       "   id    L    R\n",
       "0   1    A  NaN\n",
       "1   2    B  NaN\n",
       "2   3    C  NaN\n",
       "3   4    D  NaN\n",
       "4   2  NaN    W\n",
       "5   3  NaN    X\n",
       "6   4  NaN    Y\n",
       "7   5  NaN    Z"
      ]
     },
     "execution_count": 26,
     "metadata": {},
     "output_type": "execute_result"
    }
   ],
   "source": [
    "pd.concat([left_df, right_df], axis=0, ignore_index=True)"
   ]
  },
  {
   "cell_type": "markdown",
   "id": "e38b8a8e-4b2f-40f9-be7a-2e328a08ea5a",
   "metadata": {},
   "source": [
    "## Groupby"
   ]
  },
  {
   "cell_type": "code",
   "execution_count": 27,
   "id": "9e1a70e3-9058-43cb-8dd0-b055c112c894",
   "metadata": {},
   "outputs": [
    {
     "name": "stdout",
     "output_type": "stream",
     "text": [
      "Country\n",
      "Canada    170\n",
      "US        390\n",
      "Name: Sales, dtype: int64\n"
     ]
    }
   ],
   "source": [
    "import pandas as pd\n",
    "\n",
    "# Sample DataFrame\n",
    "data = {'Country': ['US', 'US', 'Canada', 'Canada', 'US'],\n",
    "        'Sales': [100, 200, 50, 120, 90]}\n",
    "df = pd.DataFrame(data)\n",
    "\n",
    "grouped = df.groupby('Country')['Sales'].sum()\n",
    "print(grouped)\n",
    "# Output:\n",
    "# Country\n",
    "# Canada     170\n",
    "# US         390\n",
    "# Name: Sales, dtype: int64"
   ]
  },
  {
   "cell_type": "markdown",
   "id": "f908654c-62dd-471e-bf02-35874fc07561",
   "metadata": {},
   "source": [
    "## Broadcasting in NumPy"
   ]
  },
  {
   "cell_type": "code",
   "execution_count": 28,
   "id": "9e8e0c1a-4cb8-42d0-9a71-a9daedccd382",
   "metadata": {},
   "outputs": [
    {
     "name": "stdout",
     "output_type": "stream",
     "text": [
      "[[11 22 33]\n",
      " [14 25 36]]\n"
     ]
    }
   ],
   "source": [
    "import numpy as np\n",
    "\n",
    "A = np.array([[1, 2, 3],\n",
    "              [4, 5, 6]])        # Shape (2,3)\n",
    "b = np.array([10, 20, 30])       # Shape (3,)\n",
    "\n",
    "result = A + b  # b is broadcasted to shape (2,3)\n",
    "print(result)\n",
    "# Output:\n",
    "# [[11 22 33]\n",
    "#  [14 25 36]]"
   ]
  },
  {
   "cell_type": "markdown",
   "id": "7c0f479f-f49c-434f-ad6d-6f0278ac22e1",
   "metadata": {},
   "source": [
    "## Word counter"
   ]
  },
  {
   "cell_type": "code",
   "execution_count": 29,
   "id": "51719954-2265-4f1f-beb3-70a6edf44811",
   "metadata": {},
   "outputs": [
    {
     "name": "stdout",
     "output_type": "stream",
     "text": [
      "Counter({'data': 2, 'is': 2, 'science': 1, 'fun': 1, 'and': 1, 'powerful': 1})\n"
     ]
    }
   ],
   "source": [
    "from collections import Counter\n",
    "\n",
    "def word_frequencies(text: str) -> Counter:\n",
    "    words = text.split()  # split on whitespace by default\n",
    "    return Counter(words)\n",
    "\n",
    "# Example usage:\n",
    "text = \"data science is fun and data is powerful\"\n",
    "freqs = word_frequencies(text)\n",
    "print(freqs)\n",
    "# Output: Counter({'data': 2, 'is': 2, 'science': 1, 'fun': 1, 'and': 1, 'powerful': 1})"
   ]
  },
  {
   "cell_type": "code",
   "execution_count": 30,
   "id": "d8c35e3a-babb-4bec-87c9-4780909dd538",
   "metadata": {},
   "outputs": [],
   "source": [
    "# manually\n",
    "def word_frequencies_manual(text: str) -> dict:\n",
    "    freq = {}\n",
    "    for word in text.split():\n",
    "        freq[word] = freq.get(word, 0) + 1\n",
    "    return freq"
   ]
  },
  {
   "cell_type": "code",
   "execution_count": 31,
   "id": "9fe66bc4-4c8c-450f-84b4-e1ff9008f28c",
   "metadata": {},
   "outputs": [
    {
     "data": {
      "text/plain": [
       "{'data': 2, 'science': 1, 'is': 2, 'fun': 1, 'and': 1, 'powerful': 1}"
      ]
     },
     "execution_count": 31,
     "metadata": {},
     "output_type": "execute_result"
    }
   ],
   "source": [
    "word_frequencies_manual(text)"
   ]
  },
  {
   "cell_type": "markdown",
   "id": "0bd4636a-8cc6-47ba-8c14-2e13d1414f30",
   "metadata": {},
   "source": [
    "## Reverse a string"
   ]
  },
  {
   "cell_type": "code",
   "execution_count": 32,
   "id": "d0240905-28ae-4816-836d-09f01471810e",
   "metadata": {},
   "outputs": [],
   "source": [
    "def reverse_string(s):\n",
    "    # Slice the string with step -1 to reverse\n",
    "    return s[::-1]"
   ]
  },
  {
   "cell_type": "code",
   "execution_count": 33,
   "id": "3d3f534c-025c-4bab-87b2-359c1f8a121e",
   "metadata": {},
   "outputs": [
    {
     "name": "stdout",
     "output_type": "stream",
     "text": [
      "ecneicSataD\n"
     ]
    }
   ],
   "source": [
    "print(reverse_string(\"DataScience\"))  # Output: \"ecneicSataD\""
   ]
  },
  {
   "cell_type": "markdown",
   "id": "3ce97621-1357-49ae-a27b-f1f783d4edc6",
   "metadata": {},
   "source": [
    "## Init and Self"
   ]
  },
  {
   "cell_type": "code",
   "execution_count": 34,
   "id": "ead9b6d2-aaef-446f-962e-c7a5555d04a5",
   "metadata": {},
   "outputs": [],
   "source": [
    "class Trade:\n",
    "    def __init__(self, symbol, qty, price):\n",
    "        self.symbol, self.qty, self.price = symbol, qty, price\n",
    "        self.value = qty * price"
   ]
  },
  {
   "cell_type": "code",
   "execution_count": 35,
   "id": "648981a7-6a9c-4fcc-917a-b06a0089aa20",
   "metadata": {},
   "outputs": [
    {
     "data": {
      "text/plain": [
       "211260.0"
      ]
     },
     "execution_count": 35,
     "metadata": {},
     "output_type": "execute_result"
    }
   ],
   "source": [
    "Trade(\"AAPL\", 1000, 211.26).value   # 211260.0"
   ]
  },
  {
   "cell_type": "markdown",
   "id": "1c3f4252-c373-49cb-bf3d-bc757a043ebd",
   "metadata": {},
   "source": [
    "## Decorators"
   ]
  },
  {
   "cell_type": "code",
   "execution_count": 36,
   "id": "9e350eff-f009-44b2-a6b6-0e42659f448c",
   "metadata": {},
   "outputs": [],
   "source": [
    "import time\n",
    "def timer(func):                        # decorator factory\n",
    "    def wrapper(*args, **kwargs):       # preserves signature\n",
    "        start = time.perf_counter()\n",
    "        result = func(*args, **kwargs)\n",
    "        elapsed = time.perf_counter() - start\n",
    "        print(f\"{func.__name__} ran in {elapsed:.4f}s\")\n",
    "        return result\n",
    "    return wrapper"
   ]
  },
  {
   "cell_type": "code",
   "execution_count": 37,
   "id": "767ba5f6-ea7c-4396-9043-7c6d751d098c",
   "metadata": {},
   "outputs": [
    {
     "name": "stdout",
     "output_type": "stream",
     "text": [
      "intense_compute ran in 0.0926s\n"
     ]
    },
    {
     "data": {
      "text/plain": [
       "333332333334000000"
      ]
     },
     "execution_count": 37,
     "metadata": {},
     "output_type": "execute_result"
    }
   ],
   "source": [
    "@timer\n",
    "def intense_compute(n=1_000_000):\n",
    "    return sum(i*i-i for i in range(n))\n",
    "\n",
    "intense_compute()   # prints timing without touching original logic"
   ]
  },
  {
   "cell_type": "markdown",
   "id": "3d522f36-24f5-496f-8cf7-552087425972",
   "metadata": {},
   "source": [
    "## Metaclasses"
   ]
  },
  {
   "cell_type": "code",
   "execution_count": 38,
   "id": "30506d37-99d0-437c-a677-d2c9d473c6c0",
   "metadata": {},
   "outputs": [],
   "source": [
    "# Metaclass that auto-adds an audit stamp to every new class\n",
    "class AuditMeta(type):\n",
    "    def __new__(mcls, name, bases, namespace):\n",
    "        namespace['__audit_stamp__'] = f\"BuiltBy:{name}\"\n",
    "        return super().__new__(mcls, name, bases, namespace)\n",
    "\n",
    "class Order(metaclass=AuditMeta):\n",
    "    pass\n",
    "\n",
    "class Trade(metaclass=AuditMeta):\n",
    "    pass"
   ]
  },
  {
   "cell_type": "code",
   "execution_count": 39,
   "id": "819e365f-4968-473b-b010-8b9c60048569",
   "metadata": {},
   "outputs": [
    {
     "name": "stdout",
     "output_type": "stream",
     "text": [
      "BuiltBy:Order\n",
      "BuiltBy:Trade\n"
     ]
    }
   ],
   "source": [
    "print(Order.__audit_stamp__)   # BuiltBy:Order\n",
    "print(Trade.__audit_stamp__)   # BuiltBy:Trade"
   ]
  },
  {
   "cell_type": "markdown",
   "id": "93cf571a-f9c9-4237-b23e-6ebf2cd8b832",
   "metadata": {},
   "source": [
    "## Monkey patching"
   ]
  },
  {
   "cell_type": "code",
   "execution_count": 40,
   "id": "b411fc10-a76b-491d-b84b-7a373a7f503b",
   "metadata": {},
   "outputs": [],
   "source": [
    "from types import MethodType\n",
    "import http.client as http  # any built-in module works\n",
    "\n",
    "# Original class has no greet method\n",
    "conn = http.HTTPConnection(\"example.com\")\n",
    "# conn.greet()  # AttributeError if called now\n",
    "\n",
    "#  monkey patch\n",
    "def greet(self):\n",
    "    return f\"Hello from {self.__class__.__name__}!\"\n",
    "\n",
    "http.HTTPConnection.greet = greet   # inject method"
   ]
  },
  {
   "cell_type": "code",
   "execution_count": 41,
   "id": "79d38ed2-3fb7-45ad-9709-9c89792ed328",
   "metadata": {},
   "outputs": [
    {
     "name": "stdout",
     "output_type": "stream",
     "text": [
      "Hello from HTTPConnection!\n"
     ]
    }
   ],
   "source": [
    "# Now every HTTPConnection instance has 'greet'\n",
    "print(conn.greet())                            # Hello from HTTPConnection!"
   ]
  },
  {
   "cell_type": "code",
   "execution_count": 42,
   "id": "d8cbc65c-b719-4781-8396-61005b6effcd",
   "metadata": {},
   "outputs": [
    {
     "name": "stdout",
     "output_type": "stream",
     "text": [
      "Hello from HTTPConnection!\n"
     ]
    }
   ],
   "source": [
    "print(http.HTTPConnection(\"foo.com\").greet())  # works on new objects too"
   ]
  },
  {
   "cell_type": "markdown",
   "id": "cac89dc5-2aed-4512-9f3f-be0365734b77",
   "metadata": {},
   "source": [
    "## Binary search "
   ]
  },
  {
   "cell_type": "code",
   "execution_count": 43,
   "id": "20bc4ecd-5314-4c8d-a3c6-2e40338a1664",
   "metadata": {},
   "outputs": [],
   "source": [
    "def binary_search(arr, target):\n",
    "    lo, hi = 0, len(arr)-1\n",
    "    while lo <= hi:\n",
    "        mid = (lo + hi)//2\n",
    "        if arr[mid] == target:\n",
    "            return mid\n",
    "        lo, hi = (mid+1, hi) if arr[mid] < target else (lo, mid-1)\n",
    "    return -1"
   ]
  },
  {
   "cell_type": "code",
   "execution_count": 44,
   "id": "7cafcc0a-7d67-4f5e-a710-ac91974bdba3",
   "metadata": {},
   "outputs": [
    {
     "data": {
      "text/plain": [
       "39"
      ]
     },
     "execution_count": 44,
     "metadata": {},
     "output_type": "execute_result"
    }
   ],
   "source": [
    "binary_search(np.array([i**2 for i in range(0,100)]),1521)"
   ]
  },
  {
   "cell_type": "code",
   "execution_count": 45,
   "id": "e06eb0ce-5b31-4daa-8107-393a606eec86",
   "metadata": {},
   "outputs": [
    {
     "data": {
      "text/plain": [
       "1521"
      ]
     },
     "execution_count": 45,
     "metadata": {},
     "output_type": "execute_result"
    }
   ],
   "source": [
    "39**2"
   ]
  },
  {
   "cell_type": "markdown",
   "id": "0ca9628c-6f02-4496-84b7-d3fbadc80c6f",
   "metadata": {},
   "source": [
    "## Unique values in a sorted array"
   ]
  },
  {
   "cell_type": "code",
   "execution_count": 46,
   "id": "5494d9d7-7bae-4639-8ad4-17495141831b",
   "metadata": {},
   "outputs": [],
   "source": [
    "def unique_sorted(arr):\n",
    "    \"\"\"\n",
    "    Remove duplicates from a sorted list in-place.\n",
    "    Returns the new length containing unique elements only.\n",
    "    \"\"\"\n",
    "    before = 0                           # last unique index\n",
    "    for after in range(1, len(arr)):\n",
    "        if arr[after] != arr[before]:    # found a new unique value\n",
    "            before += 1\n",
    "            arr[before] = arr[after]     # copy it forward\n",
    "    return before + 1                    # logical length of shortened prefix"
   ]
  },
  {
   "cell_type": "code",
   "execution_count": 47,
   "id": "f95bf6e0-3882-4a99-9ec0-00206b76c38d",
   "metadata": {},
   "outputs": [
    {
     "name": "stdout",
     "output_type": "stream",
     "text": [
      "New length: 4\n",
      "Unique slice: [1, 2, 3, 4]\n"
     ]
    }
   ],
   "source": [
    "nums = [1, 1, 2, 2, 2, 3, 4, 4]\n",
    "new_len = unique_sorted(nums)\n",
    "print(\"New length:\", new_len)          # 4\n",
    "print(\"Unique slice:\", nums[:new_len]) # [1, 2, 3, 4]"
   ]
  },
  {
   "cell_type": "markdown",
   "id": "944941a0-dff4-43e5-a34a-372bd91e0143",
   "metadata": {},
   "source": [
    "## Missing number"
   ]
  },
  {
   "cell_type": "code",
   "execution_count": 48,
   "id": "8fe3c840-7be2-4434-a3ed-78b23d115354",
   "metadata": {},
   "outputs": [],
   "source": [
    "def missing_by_sum(nums):\n",
    "    n   = len(nums) + 1                    # original size\n",
    "    expected_sum = n * (n + 1) // 2        # expected sum 1..n\n",
    "    actual_sum = sum(nums)                 # actual sum\n",
    "    return expected_sum - actual_sum       # missing number"
   ]
  },
  {
   "cell_type": "code",
   "execution_count": 49,
   "id": "b4ab3ddf-d316-4627-9508-f02fe00f4ae9",
   "metadata": {},
   "outputs": [
    {
     "data": {
      "text/plain": [
       "5"
      ]
     },
     "execution_count": 49,
     "metadata": {},
     "output_type": "execute_result"
    }
   ],
   "source": [
    "missing_by_sum(np.array([1,2,3,4,6,7,8,9,10]))"
   ]
  },
  {
   "cell_type": "markdown",
   "id": "6927ae48-61c4-4999-9ab2-4ff94b2f216d",
   "metadata": {},
   "source": [
    "## Palindromes"
   ]
  },
  {
   "cell_type": "code",
   "execution_count": 50,
   "id": "4991127f-a9e9-4785-9d45-f84611ec793b",
   "metadata": {},
   "outputs": [],
   "source": [
    "def is_palindrome(text):\n",
    "    cleaned = ''.join(ch.lower() for ch in text if ch.isalnum())\n",
    "    return cleaned == cleaned[::-1]"
   ]
  },
  {
   "cell_type": "code",
   "execution_count": 51,
   "id": "25646664-d826-4909-8b1e-83cc41eb0253",
   "metadata": {},
   "outputs": [
    {
     "name": "stdout",
     "output_type": "stream",
     "text": [
      "True\n",
      "True\n",
      "False\n"
     ]
    }
   ],
   "source": [
    "print(is_palindrome(\"RaceCar\"))                          # True\n",
    "print(is_palindrome(\"A man, a plan, a canal: Panama\"))   # True\n",
    "print(is_palindrome(\"OpenAI\"))                           # False"
   ]
  },
  {
   "cell_type": "markdown",
   "id": "816c30e2-dc20-4f5f-8b30-a96647de4a90",
   "metadata": {},
   "source": [
    "# Part 2: Essential Concepts"
   ]
  },
  {
   "cell_type": "markdown",
   "id": "677f9f87-8ccc-4489-aec6-8c52a85533fb",
   "metadata": {},
   "source": [
    "## P-value"
   ]
  },
  {
   "cell_type": "code",
   "execution_count": 52,
   "id": "c48bcb21-f013-4003-a097-b794feb38fb9",
   "metadata": {},
   "outputs": [
    {
     "data": {
      "image/png": "[encoded data removed]",
      "text/plain": [
       "<Figure size 700x400 with 1 Axes>"
      ]
     },
     "metadata": {},
     "output_type": "display_data"
    }
   ],
   "source": [
    "import numpy as np\n",
    "import matplotlib.pyplot as plt\n",
    "from scipy.stats import norm, expon\n",
    "\n",
    "z_obs = 2.1  # observed z-statistic\n",
    "x = np.linspace(-4, 4, 400)\n",
    "pdf = norm.pdf(x)\n",
    "\n",
    "plt.figure(figsize=(7,4))\n",
    "plt.plot(x, pdf, label='Null N(0,1)', color=\"orange\")\n",
    "plt.fill_between(x, pdf, where=(x >= z_obs), alpha=0.3, label='p-value (area)')\n",
    "plt.axvline(z_obs, color='red', linestyle='--', label=f'z_obs = {z_obs}')\n",
    "plt.title('Visualizing a p-value')\n",
    "plt.xlabel('Test statistic (z)')\n",
    "plt.ylabel('Density')\n",
    "plt.legend(loc='upper left')\n",
    "plt.tight_layout()\n",
    "plt.grid(True)\n",
    "plt.show()"
   ]
  },
  {
   "cell_type": "markdown",
   "id": "562a32a7-e623-472e-bb6b-98b4d8bea96d",
   "metadata": {},
   "source": [
    "### BONUS: Calculating p-value"
   ]
  },
  {
   "cell_type": "code",
   "execution_count": 53,
   "id": "448d05af-1a54-4d80-86ba-756a5cc901eb",
   "metadata": {},
   "outputs": [
    {
     "name": "stdout",
     "output_type": "stream",
     "text": [
      "Observed z         : 2.1\n",
      "One-sided p-value  : 0.0179\n"
     ]
    }
   ],
   "source": [
    "\n",
    "# --------------------------------------------------\n",
    "# Observed test statistic under H0 ~ N(0, 1)\n",
    "# --------------------------------------------------\n",
    "z_obs = 2.1\n",
    "\n",
    "# One-sided (upper-tail) p-value:  P(Z ≥ z_obs | H0) # shaded area above\n",
    "p_one_sided = 1 - norm.cdf(z_obs)\n",
    "\n",
    "print(f\"Observed z         : {z_obs:.1f}\")\n",
    "print(f\"One-sided p-value  : {p_one_sided:.4f}\")"
   ]
  },
  {
   "cell_type": "markdown",
   "id": "27bb44af-27a4-46b6-aa56-8ecb5905ee41",
   "metadata": {},
   "source": [
    "## Central Limit Theorem"
   ]
  },
  {
   "cell_type": "code",
   "execution_count": 54,
   "id": "094fa549-0677-4719-8a95-55b9e98f69ff",
   "metadata": {},
   "outputs": [
    {
     "data": {
      "image/png": "[encoded data removed]",
      "text/plain": [
       "<Figure size 700x400 with 1 Axes>"
      ]
     },
     "metadata": {},
     "output_type": "display_data"
    }
   ],
   "source": [
    "np.random.seed(42)\n",
    "n = 50\n",
    "means = [np.mean(expon.rvs(scale=2, size=n)) for _ in range(1000)] # exponential distribution\n",
    "mean_mu, mean_sigma = np.mean(means), np.std(means)\n",
    "\n",
    "plt.figure(figsize=(7,4))\n",
    "plt.hist(means, bins=30, density=True, alpha=0.6, label='Sampling distribution', color=\"orange\")\n",
    "x2 = np.linspace(min(means), max(means), 400)\n",
    "plt.plot(x2, norm.pdf(x2, mean_mu, mean_sigma), label='Normal approx', lw=2, color=\"red\")\n",
    "plt.title('Central Limit Theorem: Sample Means (n=50)')\n",
    "plt.xlabel('Sample mean')\n",
    "plt.ylabel('Density')\n",
    "plt.legend()\n",
    "plt.tight_layout()\n",
    "plt.grid(True)\n",
    "plt.show()"
   ]
  },
  {
   "cell_type": "markdown",
   "id": "bab22b4c-63a8-4c1f-a9fe-e9b26816d135",
   "metadata": {},
   "source": [
    "We are generating a random sample of size $50$ from an exponential distribution having **rate** $\\lambda$: $f(x;\\lambda) =\\lambda exp(-x\\lambda) , x \\geq 0$. Thus, $X\\sim Exp(\\lambda)$. The mean and standard deviation is this case are both $\\frac{1}{\\lambda}$ which is also referred as **scale** parameter. Therefore, in the case above both the mean and standard deviation are 2.  \n",
    "\n",
    "Remember that sampling distribution of the sample mean is approximately normal:\n",
    "$$\n",
    "  \\bar{X} \\sim N(\\mu, \\frac{\\sigma}{\\sqrt{n}})\n",
    "$$\n",
    "\n",
    "Therefore, the Normal approximation of the sampling distribution is:\n",
    "$$\n",
    "  \\bar{X} \\sim N(2, \\frac{2}{\\sqrt{50}})\n",
    "$$\n",
    "\n",
    "In practice, instead of plugging in the theoretical values $\\mu$ and $\\sigma$, we estimate them directly from the sample."
   ]
  },
  {
   "cell_type": "code",
   "execution_count": 55,
   "id": "6510dbfc-9088-4cbc-884b-345341012b3a",
   "metadata": {},
   "outputs": [
    {
     "name": "stdout",
     "output_type": "stream",
     "text": [
      "Theoretical mu  is 2\n"
     ]
    }
   ],
   "source": [
    "print(f\"Theoretical mu  is 2\")"
   ]
  },
  {
   "cell_type": "code",
   "execution_count": 56,
   "id": "a2e7c14d-1a14-4485-9e1f-6d82cddec208",
   "metadata": {},
   "outputs": [
    {
     "name": "stdout",
     "output_type": "stream",
     "text": [
      "Empirical μ  is 1.992\n"
     ]
    }
   ],
   "source": [
    "print(f\"Empirical μ  is {np.mean(means):.3f}\")"
   ]
  },
  {
   "cell_type": "code",
   "execution_count": 57,
   "id": "5e811e60-742e-4cc5-8186-d6f097f17c8d",
   "metadata": {},
   "outputs": [
    {
     "name": "stdout",
     "output_type": "stream",
     "text": [
      "Theoretical σ  is 0.283\n"
     ]
    }
   ],
   "source": [
    "print(f\"Theoretical σ  is {2/np.sqrt(n):.3f}\")"
   ]
  },
  {
   "cell_type": "code",
   "execution_count": 58,
   "id": "41a31193-4ca1-434c-abc6-9c3d8c596cfe",
   "metadata": {},
   "outputs": [
    {
     "name": "stdout",
     "output_type": "stream",
     "text": [
      "Empirical σ  is 0.277\n"
     ]
    }
   ],
   "source": [
    "print(f\"Empirical σ  is {np.std(means) :.3f}\")"
   ]
  },
  {
   "cell_type": "markdown",
   "id": "03155e09-559d-4753-810a-c6b6ec79ee9b",
   "metadata": {},
   "source": [
    "## Type I and Type II Errors"
   ]
  },
  {
   "cell_type": "code",
   "execution_count": 59,
   "id": "74327038-2ed6-4d40-9252-abe42038dd77",
   "metadata": {},
   "outputs": [
    {
     "data": {
      "image/png": "[encoded data removed]",
      "text/plain": [
       "<Figure size 700x400 with 1 Axes>"
      ]
     },
     "metadata": {},
     "output_type": "display_data"
    }
   ],
   "source": [
    "crit = norm.ppf(0.95)  # critical value for alpha=0.05, one-sided\n",
    "x = np.linspace(-3, 6, 400)\n",
    "null_pdf = norm.pdf(x, 0, 1)\n",
    "alt_pdf  = norm.pdf(x, 2, 1)\n",
    "\n",
    "plt.figure(figsize=(7,4))\n",
    "plt.plot(x, null_pdf, label='H0: N(0,1)')\n",
    "plt.plot(x, alt_pdf,  label='H1: N(2,1)')\n",
    "# alpha region\n",
    "plt.fill_between(x, null_pdf, where=(x >= crit), alpha=0.3, color='orange', label='α (Type I)')\n",
    "# beta region\n",
    "plt.fill_between(x, alt_pdf, where=(x < crit), alpha=0.3, color='green', label='β (Type II)')\n",
    "plt.axvline(crit, color='red', linestyle='--', label=f'Critical value = {crit:.2f}')\n",
    "plt.title('Type I and Type II Errors')\n",
    "plt.xlabel('Test statistic')\n",
    "plt.ylabel('Density')\n",
    "plt.legend()\n",
    "plt.grid(True)\n",
    "plt.tight_layout()\n",
    "plt.show()"
   ]
  },
  {
   "cell_type": "markdown",
   "id": "67c68df9-00a5-4a5f-b147-076e94184d5f",
   "metadata": {},
   "source": [
    "### BONUS: Calculating α, β, and power  "
   ]
  },
  {
   "cell_type": "code",
   "execution_count": 60,
   "id": "e89972cc-697e-4dd0-9683-27cd7e47a900",
   "metadata": {},
   "outputs": [
    {
     "name": "stdout",
     "output_type": "stream",
     "text": [
      "α (Type I error)  = 0.051\n",
      "β (Type II error) = 0.359\n",
      "Power             = 0.641\n"
     ]
    }
   ],
   "source": [
    "from scipy.stats import norm\n",
    "\n",
    "# --------------------------------------------------------------------\n",
    "# PARAMETERS \n",
    "# --------------------------------------------------------------------\n",
    "mu_null  = 0                   # mean under H0\n",
    "mu_alt   = 2                   # mean under H1\n",
    "sigma    = 1                   # common standard deviation\n",
    "crit=1.64\n",
    "\n",
    "# --------------------------------------------------------------------\n",
    "# 1.  alpha  (Type I error): probability of rejecting H0 when H0 is true\n",
    "# --------------------------------------------------------------------\n",
    "alpha = 1 - norm.cdf(crit, loc=mu_null, scale=sigma)   \n",
    "\n",
    "# --------------------------------------------------------------------\n",
    "# 2.  beta  (Type II error): probability of *not* rejecting H0 when H1 is true\n",
    "# --------------------------------------------------------------------\n",
    "beta = norm.cdf(crit, loc=mu_alt, scale=sigma)         \n",
    "\n",
    "# --------------------------------------------------------------------\n",
    "# 3.  Power = (1 − beta ):  probability of correctly rejecting H0 under H1\n",
    "# --------------------------------------------------------------------\n",
    "power = 1 - beta                                       \n",
    "\n",
    "# --------------------------------------------------------------------\n",
    "# DISPLAY RESULTS\n",
    "# --------------------------------------------------------------------\n",
    "print(f\"α (Type I error)  = {alpha:.3f}\")\n",
    "print(f\"β (Type II error) = {beta:.3f}\")\n",
    "print(f\"Power             = {power:.3f}\")"
   ]
  },
  {
   "cell_type": "markdown",
   "id": "7a787937-a227-4c17-8b93-fca83dad690c",
   "metadata": {},
   "source": [
    "## Confusion Matrix"
   ]
  },
  {
   "cell_type": "code",
   "execution_count": 61,
   "id": "df574675-6290-47e4-8f8e-0a13fefa93d3",
   "metadata": {},
   "outputs": [],
   "source": [
    "from sklearn.metrics import confusion_matrix, classification_report\n",
    "\n",
    "y_true = [1, 0, 1, 1, 0, 1, 1]         # actual labels\n",
    "y_pred = [1, 0, 0, 1, 0, 0, 1]         # model predictions"
   ]
  },
  {
   "cell_type": "code",
   "execution_count": 62,
   "id": "363a67fe-2c73-440e-8f33-8406014d0fbd",
   "metadata": {},
   "outputs": [
    {
     "name": "stdout",
     "output_type": "stream",
     "text": [
      "[[2 0]\n",
      " [2 3]]\n"
     ]
    }
   ],
   "source": [
    "print(confusion_matrix(y_true, y_pred))\n",
    "# Output (matrix layout):\n",
    "# [[TN, FP]\n",
    "#  [FN, TP]]"
   ]
  },
  {
   "cell_type": "code",
   "execution_count": 63,
   "id": "dc37e6ba-95b1-4ee7-8acc-2162660ef819",
   "metadata": {},
   "outputs": [
    {
     "name": "stdout",
     "output_type": "stream",
     "text": [
      "              precision    recall  f1-score   support\n",
      "\n",
      "           0       0.50      1.00      0.67         2\n",
      "           1       1.00      0.60      0.75         5\n",
      "\n",
      "    accuracy                           0.71         7\n",
      "   macro avg       0.75      0.80      0.71         7\n",
      "weighted avg       0.86      0.71      0.73         7\n",
      "\n"
     ]
    }
   ],
   "source": [
    "# This will print precision, recall, F1 for each class.\n",
    "print(classification_report(y_true, y_pred))\n",
    "\n",
    "# Precision = TP / (TP + FP)                                       \n",
    "# Recall (Sensitivity) = TP / (TP + FN)                       \n",
    "# F1-Score = 2 * (Precision * Recall) / (Precision + Recall)   \n",
    "# Accuracy = (TP + TN) / total sample"
   ]
  },
  {
   "cell_type": "markdown",
   "id": "cb2f754d-be58-493f-83cc-8516a5ea7b99",
   "metadata": {},
   "source": [
    "## Cross-validation "
   ]
  },
  {
   "cell_type": "code",
   "execution_count": 64,
   "id": "f9f09d43-8805-44a3-a56b-44abffc47cdf",
   "metadata": {},
   "outputs": [
    {
     "name": "stdout",
     "output_type": "stream",
     "text": [
      "Accuracy per fold : [0.865 0.84  0.855 0.835 0.845]\n",
      "Mean accuracy : 0.848\n",
      "\n",
      "Precision per fold : [0.87878788 0.84347826 0.79787234 0.81730769 0.85576923]\n",
      "Mean precision: 0.839\n",
      "\n",
      "Recall per fold : [0.85294118 0.87387387 0.88235294 0.85858586 0.84761905]\n",
      "Mean recall   : 0.863\n",
      "\n",
      "F1 per fold : [0.86567164 0.85840708 0.83798883 0.83743842 0.85167464]\n",
      "Mean f1       : 0.850\n",
      "\n"
     ]
    }
   ],
   "source": [
    "from sklearn.datasets import make_classification\n",
    "from sklearn.linear_model import LogisticRegression\n",
    "from sklearn.model_selection import cross_val_score, KFold, cross_validate  # Added cross_validate import\n",
    "\n",
    "# 1. Generate fake features X and binary labels y\n",
    "X, y = make_classification(\n",
    "    n_samples=1000,      # rows\n",
    "    n_features=20,       # columns\n",
    "    n_informative=10,    # truly predictive features\n",
    "    n_redundant=5,       # linear combos of informatives\n",
    "    n_classes=2,\n",
    "    random_state=1933\n",
    ")\n",
    "\n",
    "# 2. Initialize Logistic Regression model\n",
    "model = LogisticRegression(max_iter=1000, solver=\"lbfgs\")\n",
    "\n",
    "# 3. 5‑fold cross‑validation with shuffling for robustness\n",
    "kf      = KFold(n_splits=5, shuffle=True, random_state=42)\n",
    "\n",
    "# 4. Evaluate four metrics at once\n",
    "scoring = ['accuracy', 'precision', 'recall', 'f1']\n",
    "cv = cross_validate(model, X, y, cv=kf, scoring=scoring, return_train_score=False)\n",
    "\n",
    "# 5. Display per-fold and mean scores\n",
    "for metric in scoring:\n",
    "    print(f\"{metric.capitalize()} per fold :\", cv[f'test_{metric}'])\n",
    "    print(f\"Mean {metric:9}: {cv[f'test_{metric}'].mean():.3f}\\n\")"
   ]
  }
 ],
 "metadata": {
  "kernelspec": {
   "display_name": "anaconda-panel-2023.05-py310",
   "language": "python",
   "name": "conda-env-anaconda-panel-2023.05-py310-py"
  },
  "language_info": {
   "codemirror_mode": {
    "name": "ipython",
    "version": 3
   },
   "file_extension": ".py",
   "mimetype": "text/x-python",
   "name": "python",
   "nbconvert_exporter": "python",
   "pygments_lexer": "ipython3",
   "version": "3.11.5"
  }
 },
 "nbformat": 4,
 "nbformat_minor": 5
}
